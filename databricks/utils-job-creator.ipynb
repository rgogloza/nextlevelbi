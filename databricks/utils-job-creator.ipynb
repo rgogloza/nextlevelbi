{
 "cells": [
  {
   "attachments": {},
   "cell_type": "markdown",
   "metadata": {},
   "source": [
    "# Python packages used along the way"
   ]
  },
  {
   "cell_type": "code",
   "execution_count": null,
   "metadata": {
    "application/vnd.databricks.v1+cell": {
     "cellMetadata": {},
     "inputWidgets": {},
     "nuid": "f2c859d9-183f-4d0d-8753-f034c5b561bc",
     "showTitle": false,
     "title": ""
    }
   },
   "outputs": [],
   "source": [
    "import requests\n",
    "import base64\n",
    "import os\n",
    "import math"
   ]
  },
  {
   "attachments": {},
   "cell_type": "markdown",
   "metadata": {
    "application/vnd.databricks.v1+cell": {
     "cellMetadata": {
      "byteLimit": 2048000,
      "rowLimit": 10000
     },
     "inputWidgets": {},
     "nuid": "f893f955-9b97-4600-9203-0745485de2a2",
     "showTitle": false,
     "title": ""
    }
   },
   "source": [
    "# Constants"
   ]
  },
  {
   "attachments": {},
   "cell_type": "markdown",
   "metadata": {
    "application/vnd.databricks.v1+cell": {
     "cellMetadata": {
      "byteLimit": 2048000,
      "rowLimit": 10000
     },
     "inputWidgets": {},
     "nuid": "89e1f867-5cc7-4309-989b-85db0d653e33",
     "showTitle": false,
     "title": ""
    }
   },
   "source": [
    "## Job generation related"
   ]
  },
  {
   "cell_type": "code",
   "execution_count": null,
   "metadata": {
    "application/vnd.databricks.v1+cell": {
     "cellMetadata": {
      "byteLimit": 2048000,
      "rowLimit": 10000
     },
     "inputWidgets": {},
     "nuid": "0a74f0a0-ff88-4390-ae34-cbc9629bf32a",
     "showTitle": false,
     "title": ""
    }
   },
   "outputs": [],
   "source": [
    "JOB_NAME = 'name'\n",
    "\n",
    "TASKS = 'tasks'\n",
    "TASK_KEY = 'task_key'\n",
    "TASK_DEPENDS_ON = 'depends_on'\n",
    "TASK_EXISTING_CLUSTER_ID = 'existing_cluster_id'\n",
    "TASK_NOTEBOOK_TASK = 'notebook_task'\n",
    "TASK_NOTEBOOK_PATH = 'notebook_path'\n",
    "TASK_NOTEBOOK_SOURCE = 'source' #WORKSPACE or GIT\n",
    "TASK_NOTEBOOK_SOURCE_WORKSPACE = 'WORKSPACE'\n",
    "TASK_FORMAT = 'format'\n",
    "TASK_FORMAT_MULTITASK = 'MULTI_TASK'\n",
    "EMAIL_NOTIFICATION = 'email_notifications'\n",
    "EMAIL_NOTIFICATION_ON_FAILURE = 'on_failure'\n",
    "EMAIL_NOTIFICATION_ON_FAILURE_MAIL = 'rm.gogloza@gmail-dot.com'"
   ]
  },
  {
   "attachments": {},
   "cell_type": "markdown",
   "metadata": {
    "application/vnd.databricks.v1+cell": {
     "cellMetadata": {},
     "inputWidgets": {},
     "nuid": "afb78ca7-571c-4837-ab1b-8ae3be6d9769",
     "showTitle": false,
     "title": ""
    }
   },
   "source": [
    "## Cluster related"
   ]
  },
  {
   "cell_type": "code",
   "execution_count": null,
   "metadata": {
    "application/vnd.databricks.v1+cell": {
     "cellMetadata": {
      "byteLimit": 2048000,
      "rowLimit": 10000
     },
     "inputWidgets": {},
     "nuid": "e513c00f-729b-4cbf-8c6f-9f39616beff2",
     "showTitle": false,
     "title": ""
    }
   },
   "outputs": [],
   "source": [
    "DBX_JOB_LIMIT = 100\n",
    "DBX_INSTANCE_NBR_OF_WORKERS = 2\n",
    "TASK_CLUSTER_ID = os.getenv('DBX_JOB_CLUSTER_ID') # Example: '1234-567890-abcdef12'"
   ]
  },
  {
   "attachments": {},
   "cell_type": "markdown",
   "metadata": {
    "application/vnd.databricks.v1+cell": {
     "cellMetadata": {
      "byteLimit": 2048000,
      "rowLimit": 10000
     },
     "inputWidgets": {},
     "nuid": "fc4dcd32-8d0d-42e7-bf6a-4a61494f92dc",
     "showTitle": false,
     "title": ""
    }
   },
   "source": [
    "## Rest API Related"
   ]
  },
  {
   "cell_type": "code",
   "execution_count": null,
   "metadata": {
    "application/vnd.databricks.v1+cell": {
     "cellMetadata": {
      "byteLimit": 2048000,
      "rowLimit": 10000
     },
     "inputWidgets": {},
     "nuid": "4929da61-86ba-4d6f-9faa-cc2e9a5f4974",
     "showTitle": false,
     "title": ""
    }
   },
   "outputs": [],
   "source": [
    "DBX_INSTANCE = os.getenv('DBX_INSTANCE') # Example 'https://adb-1234567890.1.azuredatabricks.net'\n",
    "DBX_TOKEN = os.getenv('DBX_TOKEN') # Example: 'dapif12scvde34ffda34tm34n123n1m-2'"
   ]
  },
  {
   "attachments": {},
   "cell_type": "markdown",
   "metadata": {
    "application/vnd.databricks.v1+cell": {
     "cellMetadata": {
      "byteLimit": 2048000,
      "rowLimit": 10000
     },
     "inputWidgets": {},
     "nuid": "5b389551-4e0f-4f04-8d50-a7f4fc1115f9",
     "showTitle": false,
     "title": ""
    }
   },
   "source": [
    "# REST API related functions"
   ]
  },
  {
   "cell_type": "code",
   "execution_count": null,
   "metadata": {
    "application/vnd.databricks.v1+cell": {
     "cellMetadata": {
      "byteLimit": 2048000,
      "rowLimit": 10000
     },
     "inputWidgets": {},
     "nuid": "a5697eaf-50eb-4bd2-aa06-1f1534d7a4e7",
     "showTitle": false,
     "title": ""
    }
   },
   "outputs": [],
   "source": [
    "class BearerAuth(requests.auth.AuthBase):\n",
    "    def __init__(self):\n",
    "        self.token = DBX_TOKEN\n",
    "    def __call__(self, r):\n",
    "        r.headers[\"authorization\"] = \"Bearer \" + self.token\n",
    "        return r"
   ]
  },
  {
   "cell_type": "code",
   "execution_count": null,
   "metadata": {
    "application/vnd.databricks.v1+cell": {
     "cellMetadata": {
      "byteLimit": 2048000,
      "rowLimit": 10000
     },
     "inputWidgets": {},
     "nuid": "585b1016-6cde-4999-8e9f-2caa986b6473",
     "showTitle": false,
     "title": ""
    }
   },
   "outputs": [],
   "source": [
    "def list_workspace(path: str) -> str:\n",
    "    data = {'path':path}\n",
    "    return requests.get(f\"{DBX_INSTANCE}/api/2.0/workspace/list\", auth=BearerAuth(), json=data)"
   ]
  },
  {
   "cell_type": "code",
   "execution_count": null,
   "metadata": {
    "application/vnd.databricks.v1+cell": {
     "cellMetadata": {
      "byteLimit": 2048000,
      "rowLimit": 10000
     },
     "inputWidgets": {},
     "nuid": "de05aa9a-3527-461b-a9f1-46bb7bd10884",
     "showTitle": false,
     "title": ""
    }
   },
   "outputs": [],
   "source": [
    "def create_job(job_json) -> str:\n",
    "    return requests.post(f\"{DBX_INSTANCE}/api/2.1/jobs/create\", auth=BearerAuth(), json=job_json)"
   ]
  },
  {
   "cell_type": "code",
   "execution_count": null,
   "metadata": {
    "application/vnd.databricks.v1+cell": {
     "cellMetadata": {
      "byteLimit": 2048000,
      "rowLimit": 10000
     },
     "inputWidgets": {},
     "nuid": "a131a533-580f-40a9-ab90-01a27daeef73",
     "showTitle": false,
     "title": ""
    }
   },
   "outputs": [],
   "source": [
    "def start_job(job_id: str) -> str:\n",
    "    data = {'job_id':job_id}\n",
    "    return requests.post(f\"{DBX_INSTANCE}/api/2.1/jobs/run-now\", auth=BearerAuth(), json=data).json()"
   ]
  },
  {
   "attachments": {},
   "cell_type": "markdown",
   "metadata": {
    "application/vnd.databricks.v1+cell": {
     "cellMetadata": {
      "byteLimit": 2048000,
      "rowLimit": 10000
     },
     "inputWidgets": {},
     "nuid": "d1fb54de-610d-4619-8d80-a1ad5f6b6fb9",
     "showTitle": false,
     "title": ""
    }
   },
   "source": [
    "# Processing function to generate job"
   ]
  },
  {
   "attachments": {},
   "cell_type": "markdown",
   "metadata": {
    "application/vnd.databricks.v1+cell": {
     "cellMetadata": {
      "byteLimit": 2048000,
      "rowLimit": 10000
     },
     "inputWidgets": {},
     "nuid": "5ade6e34-7128-4e71-9223-ecfef4c3b2c0",
     "showTitle": false,
     "title": ""
    }
   },
   "source": [
    "## Helper functions\n",
    "- generating task list definition\n",
    "- generating job definition"
   ]
  },
  {
   "cell_type": "code",
   "execution_count": null,
   "metadata": {
    "application/vnd.databricks.v1+cell": {
     "cellMetadata": {
      "byteLimit": 2048000,
      "rowLimit": 10000
     },
     "inputWidgets": {},
     "nuid": "9af6e9e8-dbbc-4337-9cba-1333405fad71",
     "showTitle": false,
     "title": ""
    }
   },
   "outputs": [],
   "source": [
    "def generate_task_definition(notebooks: [], cluster_id: str) -> []:\n",
    "    \"\"\"\n",
    "    Jobs contains tasks. To create job you will need tasks created.\n",
    "\n",
    "    Parameters\n",
    "    ----------\n",
    "    notebooks : list\n",
    "        List of notebooks to generate task definition\n",
    "    cluster_id : str\n",
    "        Cluster instance where jobs will be executed. Example: 1234-567890-abcdef12\n",
    "\n",
    "    Returns\n",
    "    -------\n",
    "    list\n",
    "        a list of tasks created\n",
    "    \"\"\"\n",
    "\n",
    "    tasks = []\n",
    "    task_key_depends_on = ''\n",
    "    for notebook in notebooks:\n",
    "        if notebook[\"object_type\"] == 'NOTEBOOK':\n",
    "            notebook_task_def = {TASK_NOTEBOOK_PATH : notebook['path'],\n",
    "                        TASK_NOTEBOOK_SOURCE : TASK_NOTEBOOK_SOURCE_WORKSPACE}\n",
    "\n",
    "            task_key = notebook['path'].split('/')[-1]\n",
    "\n",
    "            task_def = {\n",
    "                TASK_KEY : task_key,\n",
    "                TASK_NOTEBOOK_TASK : notebook_task_def,\n",
    "                TASK_EXISTING_CLUSTER_ID : cluster_id\n",
    "            }\n",
    "\n",
    "            if len(task_key_depends_on) > 0: \n",
    "                task_def[TASK_DEPENDS_ON] = [ {TASK_KEY : task_key_depends_on} ]\n",
    "\n",
    "            task_key_depends_on = task_key\n",
    "            \n",
    "            tasks.append(task_def)\n",
    "    return tasks   "
   ]
  },
  {
   "cell_type": "code",
   "execution_count": null,
   "metadata": {
    "application/vnd.databricks.v1+cell": {
     "cellMetadata": {
      "byteLimit": 2048000,
      "rowLimit": 10000
     },
     "inputWidgets": {},
     "nuid": "c5b06b92-10e7-43cb-8933-58de1ab7bc1c",
     "showTitle": false,
     "title": ""
    }
   },
   "outputs": [],
   "source": [
    "def generate_job_definition(job_name: str, tasks: []) -> {}:\n",
    "    \"\"\"\n",
    "    Creates job definition containing tasks. To create job you will need tasks list created.\n",
    "\n",
    "    Parameters\n",
    "    ----------\n",
    "    job_name : str\n",
    "        name of a job\n",
    "    tasks : list\n",
    "        lists of tasks definition\n",
    " \n",
    "    Returns\n",
    "    -------\n",
    "    dictionary\n",
    "        a structure of a job\n",
    "    \"\"\"\n",
    "    email_notification_on_failure = {EMAIL_NOTIFICATION_ON_FAILURE : [EMAIL_NOTIFICATION_ON_FAILURE_MAIL]}\n",
    "\n",
    "    job_def = { JOB_NAME : job_name,\n",
    "                TASKS : tasks,\n",
    "                EMAIL_NOTIFICATION : email_notification_on_failure\n",
    "           }\n",
    "    return job_def"
   ]
  },
  {
   "attachments": {},
   "cell_type": "markdown",
   "metadata": {
    "application/vnd.databricks.v1+cell": {
     "cellMetadata": {
      "byteLimit": 2048000,
      "rowLimit": 10000
     },
     "inputWidgets": {},
     "nuid": "fd64084b-9025-4e00-9cd6-6a91208ffb4a",
     "showTitle": false,
     "title": ""
    }
   },
   "source": [
    "## Core function - creating job instance"
   ]
  },
  {
   "cell_type": "code",
   "execution_count": null,
   "metadata": {
    "application/vnd.databricks.v1+cell": {
     "cellMetadata": {
      "byteLimit": 2048000,
      "rowLimit": 10000
     },
     "inputWidgets": {},
     "nuid": "bec99302-6ac2-464c-8765-78e302672abe",
     "showTitle": false,
     "title": ""
    }
   },
   "outputs": [],
   "source": [
    "\n",
    "def create_job_instance(job_name: str, notebook_path: str) -> []:\n",
    "    \"\"\"Create jobs definition (json). Number of jobs depends on number of workers and tasks.\n",
    "\n",
    "    Simlifying: If you have 2 workers set in a constants you will have 2 jobs created.\n",
    "\n",
    "    Parameters\n",
    "    ----------\n",
    "    job_name : str\n",
    "        Name of a job. Example next-level-bronze\n",
    "    notebook_path : str\n",
    "        Notebooks path location. Example /01-bronze/\n",
    "\n",
    "    Returns\n",
    "    -------\n",
    "    list\n",
    "        a list of job_id's created\n",
    "\n",
    "    \"\"\"\n",
    "    notebooks = list_workspace(notebook_path).json()['objects']    \n",
    "\n",
    "    # Distribute tasks among the workers\n",
    "    chunk_len = DBX_JOB_LIMIT if math.ceil(len(notebooks) / DBX_INSTANCE_NBR_OF_WORKERS ) > DBX_JOB_LIMIT else math.ceil(len(notebooks) / DBX_INSTANCE_NBR_OF_WORKERS )\n",
    "    chunks = [notebooks[x:x+chunk_len] for x in range(0, len(notebooks), chunk_len)]\n",
    "    # Creating jobs\n",
    "    jobs = []\n",
    "    i = 0\n",
    "    for notebooks_chunk in chunks:\n",
    "        tasks = generate_task_definition(notebooks_chunk, TASK_CLUSTER_ID)\n",
    "        job_def = generate_job_definition(f\"{job_name}_{i}\", tasks)\n",
    "        jobs.append(create_job(job_def).json())\n",
    "        i+=1\n",
    "    return jobs"
   ]
  },
  {
   "cell_type": "code",
   "execution_count": null,
   "metadata": {
    "application/vnd.databricks.v1+cell": {
     "cellMetadata": {
      "byteLimit": 2048000,
      "rowLimit": 10000
     },
     "inputWidgets": {},
     "nuid": "c79a25e1-aaad-4f0e-833e-0d98bfb3d585",
     "showTitle": false,
     "title": ""
    }
   },
   "outputs": [],
   "source": [
    "create_job_instance('next-level-bronze','/Shared/01 bronze/')"
   ]
  },
  {
   "cell_type": "code",
   "execution_count": null,
   "metadata": {
    "application/vnd.databricks.v1+cell": {
     "cellMetadata": {
      "byteLimit": 2048000,
      "rowLimit": 10000
     },
     "inputWidgets": {},
     "nuid": "4fab3b27-3911-484b-b47b-5d85ad56ab65",
     "showTitle": false,
     "title": ""
    }
   },
   "outputs": [],
   "source": [
    "# This is bonus ;) If you would like to run a job that has just been created.\n",
    "#[start_job(job[\"job_id\"]) for job in jobs]"
   ]
  }
 ],
 "metadata": {
  "application/vnd.databricks.v1+notebook": {
   "dashboards": [],
   "language": "python",
   "notebookMetadata": {
    "pythonIndentUnit": 4
   },
   "notebookName": "job-creator",
   "widgets": {}
  },
  "language_info": {
   "name": "python"
  }
 },
 "nbformat": 4,
 "nbformat_minor": 0
}
