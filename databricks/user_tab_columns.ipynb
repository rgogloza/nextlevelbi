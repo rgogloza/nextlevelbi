{
 "cells": [
  {
   "cell_type": "markdown",
   "metadata": {
    "application/vnd.databricks.v1+cell": {
     "cellMetadata": {},
     "inputWidgets": {},
     "nuid": "f79afde1-3b21-4705-8ad7-d390576549e6",
     "showTitle": false,
     "title": ""
    }
   },
   "source": [
    "## Parameters setup"
   ]
  },
  {
   "cell_type": "code",
   "execution_count": null,
   "metadata": {
    "application/vnd.databricks.v1+cell": {
     "cellMetadata": {
      "byteLimit": 2048000,
      "rowLimit": 10000
     },
     "inputWidgets": {},
     "nuid": "609ddf14-5cf0-4f0a-89be-5519d6076460",
     "showTitle": false,
     "title": ""
    }
   },
   "outputs": [],
   "source": [
    "dbutils.widgets.text(\"source_schema\",\"ds_goblet\")\n",
    "dbutils.widgets.text(\"target_schema\",\"nextlevel_dm\")\n",
    "dbutils.widgets.text(\"target_table\",\"user_tab_columns\")"
   ]
  },
  {
   "cell_type": "code",
   "execution_count": null,
   "metadata": {
    "application/vnd.databricks.v1+cell": {
     "cellMetadata": {
      "byteLimit": 2048000,
      "rowLimit": 10000
     },
     "inputWidgets": {},
     "nuid": "01c8a514-c4c0-4a88-b0ad-3d3528cfa564",
     "showTitle": false,
     "title": ""
    }
   },
   "outputs": [],
   "source": [
    "w_source_schema = dbutils.widgets.get(\"source_schema\")\n",
    "w_target_schema = dbutils.widgets.get(\"target_schema\")\n",
    "w_user_tab_columns = dbutils.widgets.get(\"target_table\")"
   ]
  },
  {
   "cell_type": "markdown",
   "metadata": {
    "application/vnd.databricks.v1+cell": {
     "cellMetadata": {},
     "inputWidgets": {},
     "nuid": "3454ec09-10d2-4838-8a60-517d7a00a293",
     "showTitle": false,
     "title": ""
    }
   },
   "source": [
    "### Temporary table"
   ]
  },
  {
   "cell_type": "code",
   "execution_count": null,
   "metadata": {
    "application/vnd.databricks.v1+cell": {
     "cellMetadata": {
      "byteLimit": 2048000,
      "rowLimit": 10000
     },
     "inputWidgets": {},
     "nuid": "883dddb8-16c7-4c6c-978a-88be3e64bf0a",
     "showTitle": false,
     "title": ""
    }
   },
   "outputs": [],
   "source": [
    "spark.sql(f\"create or replace table {w_target_schema}.dual select 1 as id \")"
   ]
  },
  {
   "cell_type": "markdown",
   "metadata": {
    "application/vnd.databricks.v1+cell": {
     "cellMetadata": {
      "byteLimit": 2048000,
      "rowLimit": 10000
     },
     "inputWidgets": {},
     "nuid": "d8bbd8f4-f792-4b6b-9d97-ac5356ed962c",
     "showTitle": false,
     "title": ""
    }
   },
   "source": [
    "## Defining user_tab_columns table structure"
   ]
  },
  {
   "cell_type": "code",
   "execution_count": null,
   "metadata": {
    "application/vnd.databricks.v1+cell": {
     "cellMetadata": {
      "byteLimit": 2048000,
      "rowLimit": 10000
     },
     "inputWidgets": {},
     "nuid": "2ba11e16-d42d-463b-911d-2a6f81e2c56c",
     "showTitle": false,
     "title": ""
    }
   },
   "outputs": [],
   "source": [
    "user_tab_columns = spark.sql(f\"select 's' as schema, 'a' as table_name, 'b' as column_name, 'c' as data_type, 'd' as ordinal_position, 'e' as comment, current_timestamp() as latest_metadata_refresh_date from {w_target_schema}.dual where 1 = 2\")"
   ]
  },
  {
   "cell_type": "markdown",
   "metadata": {
    "application/vnd.databricks.v1+cell": {
     "cellMetadata": {
      "byteLimit": 2048000,
      "rowLimit": 10000
     },
     "inputWidgets": {},
     "nuid": "f16d3cf6-004d-4a0d-a852-6f7b9138ff8f",
     "showTitle": false,
     "title": ""
    }
   },
   "source": [
    "## Collect and store metadata information\n",
    "- listing table\n",
    "- listing columns per table\n",
    "- overwriting existing table and inserting new metadata"
   ]
  },
  {
   "cell_type": "code",
   "execution_count": null,
   "metadata": {
    "application/vnd.databricks.v1+cell": {
     "cellMetadata": {},
     "inputWidgets": {},
     "nuid": "69e093be-50da-4fe1-9670-1ec213a0fe13",
     "showTitle": false,
     "title": ""
    }
   },
   "outputs": [],
   "source": [
    "tables = spark.sql(f\"show tables in {w_source_schema}\")\n",
    "tables = tables.filter(f\"istemporary = False and tableName <> '{w_user_tab_columns}'\")"
   ]
  },
  {
   "cell_type": "code",
   "execution_count": null,
   "metadata": {
    "application/vnd.databricks.v1+cell": {
     "cellMetadata": {
      "byteLimit": 2048000,
      "rowLimit": 10000
     },
     "inputWidgets": {},
     "nuid": "d4b5af95-62b1-44f3-a3b4-62f34a1b738d",
     "showTitle": false,
     "title": ""
    }
   },
   "outputs": [],
   "source": [
    "for row in tables.collect():    \n",
    "    df_table = spark.sql(f\"select '{w_source_schema}' as schema, '{row.tableName}' as table_name\" )\n",
    "    df_table.createOrReplaceTempView(f\"{w_target_schema}.table_schema\")\n",
    "    \n",
    "    table_columns = spark.sql(f\"describe table {w_source_schema}.{row.tableName}\") # table describe           \n",
    "    table_columns.createOrReplaceTempView(f\"{w_target_schema}.table_columns\")\n",
    "    \n",
    "    one_table_data = spark.sql(\"\"\"select ts.schema, ts.table_name, lower(tc.col_name) as column_name, tc.data_type, row_number() over(order by (select null)) as ordinal_position, tc.comment, current_timestamp() as latest_metadata_refresh_date from table_columns tc\n",
    "                  inner join table_schema ts on (1 = 1) \"\"\")\n",
    "       \n",
    "    user_tab_columns = user_tab_columns.unionAll(one_table_data)"
   ]
  },
  {
   "cell_type": "code",
   "execution_count": null,
   "metadata": {
    "application/vnd.databricks.v1+cell": {
     "cellMetadata": {
      "byteLimit": 2048000,
      "rowLimit": 10000
     },
     "inputWidgets": {},
     "nuid": "f4e57ede-208a-44e3-821e-64c60579cd4e",
     "showTitle": false,
     "title": ""
    }
   },
   "outputs": [],
   "source": [
    "user_tab_columns.write.mode(\"overwrite\").saveAsTable(f\"{w_target_schema}.{w_user_tab_columns}\")"
   ]
  },
  {
   "cell_type": "markdown",
   "metadata": {
    "application/vnd.databricks.v1+cell": {
     "cellMetadata": {},
     "inputWidgets": {},
     "nuid": "f4996f07-5d14-4efd-8b73-c892a0fa60de",
     "showTitle": false,
     "title": ""
    }
   },
   "source": [
    "### Dropping temporary table"
   ]
  },
  {
   "cell_type": "code",
   "execution_count": null,
   "metadata": {
    "application/vnd.databricks.v1+cell": {
     "cellMetadata": {
      "byteLimit": 2048000,
      "rowLimit": 10000
     },
     "inputWidgets": {},
     "nuid": "e4062168-b2ed-4cd0-8022-e69f9f3f2074",
     "showTitle": false,
     "title": ""
    }
   },
   "outputs": [],
   "source": [
    "spark.sql(f\"drop table {w_target_schema}.dual \")"
   ]
  },
  {
   "cell_type": "markdown",
   "metadata": {
    "application/vnd.databricks.v1+cell": {
     "cellMetadata": {
      "byteLimit": 2048000,
      "rowLimit": 10000
     },
     "inputWidgets": {},
     "nuid": "aa779d0b-0222-481b-ba33-89f2e27f7a82",
     "showTitle": false,
     "title": ""
    }
   },
   "source": [
    "## Debug"
   ]
  },
  {
   "cell_type": "code",
   "execution_count": null,
   "metadata": {
    "application/vnd.databricks.v1+cell": {
     "cellMetadata": {
      "byteLimit": 2048000,
      "implicitDf": true,
      "rowLimit": 10000
     },
     "inputWidgets": {},
     "nuid": "b233bd81-4df1-462d-bd57-993af12eb4f0",
     "showTitle": false,
     "title": ""
    }
   },
   "outputs": [],
   "source": [
    "%sql\n",
    "\n",
    "select * from nextlevel_dm.user_tab_columns"
   ]
  }
 ],
 "metadata": {
  "application/vnd.databricks.v1+notebook": {
   "dashboards": [],
   "language": "python",
   "notebookMetadata": {
    "mostRecentlyExecutedCommandWithImplicitDF": {
     "commandId": 1777025545187095,
     "dataframes": [
      "_sqldf"
     ]
    },
    "pythonIndentUnit": 4
   },
   "notebookName": "user_tab_columns",
   "notebookOrigID": 2508031181317320,
   "widgets": {
    "source_schema": {
     "currentValue": "nextlevel_dm",
     "nuid": "a0af2daa-913e-455d-b352-52aba04c2f00",
     "widgetInfo": {
      "defaultValue": "ds_goblet",
      "label": null,
      "name": "source_schema",
      "options": {
       "validationRegex": null,
       "widgetType": "text"
      },
      "widgetType": "text"
     }
    },
    "target_schema": {
     "currentValue": "nextlevel_dm",
     "nuid": "ad8ac259-9745-437c-a758-c9ee28414970",
     "widgetInfo": {
      "defaultValue": "nextlevel_dm",
      "label": null,
      "name": "target_schema",
      "options": {
       "validationRegex": null,
       "widgetType": "text"
      },
      "widgetType": "text"
     }
    },
    "target_table": {
     "currentValue": "user_tab_columns",
     "nuid": "6610461a-6770-4a2f-bba9-c673bac09e58",
     "widgetInfo": {
      "defaultValue": "user_tab_columns",
      "label": null,
      "name": "target_table",
      "options": {
       "validationRegex": null,
       "widgetType": "text"
      },
      "widgetType": "text"
     }
    }
   }
  },
  "language_info": {
   "name": "python"
  }
 },
 "nbformat": 4,
 "nbformat_minor": 0
}
