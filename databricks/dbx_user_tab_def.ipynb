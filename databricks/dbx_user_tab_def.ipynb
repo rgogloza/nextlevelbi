{
 "cells": [
  {
   "attachments": {},
   "cell_type": "markdown",
   "metadata": {
    "application/vnd.databricks.v1+cell": {
     "cellMetadata": {},
     "inputWidgets": {},
     "nuid": "87973cea-8f5a-4f13-a480-1e3f8a896c7c",
     "showTitle": false,
     "title": ""
    }
   },
   "source": [
    "\n",
    "# Utility to store views and table definitions in an easily searchable table"
   ]
  },
  {
   "attachments": {},
   "cell_type": "markdown",
   "metadata": {},
   "source": [
    "1. Define variables and import libraries needed\n",
    "2. Collect view definition\n",
    "3. Collect table definition"
   ]
  },
  {
   "cell_type": "code",
   "execution_count": null,
   "metadata": {
    "application/vnd.databricks.v1+cell": {
     "cellMetadata": {
      "byteLimit": 2048000,
      "rowLimit": 10000
     },
     "inputWidgets": {},
     "nuid": "6582a16a-bce2-4727-9df1-4c401854b638",
     "showTitle": false,
     "title": ""
    }
   },
   "outputs": [],
   "source": [
    "dbutils.widgets.text('db_name','next_level_dm')\n",
    "dbutils.widgets.text('user_table_def_name','dbx_user_tab_def')"
   ]
  },
  {
   "cell_type": "code",
   "execution_count": null,
   "metadata": {
    "application/vnd.databricks.v1+cell": {
     "cellMetadata": {
      "byteLimit": 2048000,
      "rowLimit": 10000
     },
     "inputWidgets": {},
     "nuid": "55c407ca-9533-4b02-9d56-0ff0c57e7f73",
     "showTitle": false,
     "title": ""
    }
   },
   "outputs": [],
   "source": [
    "in_db_name = dbutils.widgets.get('db_name')\n",
    "in_user_tab_def_name = dbutils.widgets.get('user_table_def_name')"
   ]
  },
  {
   "cell_type": "code",
   "execution_count": null,
   "metadata": {
    "application/vnd.databricks.v1+cell": {
     "cellMetadata": {
      "byteLimit": 2048000,
      "rowLimit": 10000
     },
     "inputWidgets": {},
     "nuid": "8a35fb20-b2d5-4de8-a10f-96beec07d1f6",
     "showTitle": false,
     "title": ""
    }
   },
   "outputs": [],
   "source": [
    "from pyspark.sql.functions import lit\n",
    "from datetime import datetime"
   ]
  },
  {
   "cell_type": "code",
   "execution_count": null,
   "metadata": {
    "application/vnd.databricks.v1+cell": {
     "cellMetadata": {
      "byteLimit": 2048000,
      "rowLimit": 10000
     },
     "inputWidgets": {},
     "nuid": "a8be66f9-61db-4a75-84a1-f23b9535c0f3",
     "showTitle": false,
     "title": ""
    }
   },
   "outputs": [],
   "source": [
    "def user_view_definitions(db_name: str):\n",
    "    df_views = spark.sql(f\"show views in {db_name}\" )\n",
    "    user_view_def = None\n",
    "    for row in df_views.collect():\n",
    "        df_view = spark.sql(f\"show create table {db_name}.{row.viewName}\" )\n",
    "        df_view = df_view.withColumn('database_name',lit(db_name)).withColumn('table_name',lit(row.viewName)).withColumn('type',lit('view'))\n",
    "        user_view_def = df_view.alias('user_view_def') if user_view_def is None else user_view_def.unionAll(df_view)\n",
    "    return user_view_def"
   ]
  },
  {
   "cell_type": "code",
   "execution_count": null,
   "metadata": {
    "application/vnd.databricks.v1+cell": {
     "cellMetadata": {
      "byteLimit": 2048000,
      "rowLimit": 10000
     },
     "inputWidgets": {},
     "nuid": "1c7dacf5-1518-469a-b511-5577908c5cf9",
     "showTitle": false,
     "title": ""
    }
   },
   "outputs": [],
   "source": [
    "def user_tab_definitions(db_name: str, view_list: []):\n",
    "    df_tables = spark.sql(f\"show tables in {db_name}\")\n",
    "    user_tab_def = None\n",
    "    for row in df_tables.collect():\n",
    "        if row.tableName not in view_list:\n",
    "            df_table = spark.sql(f\"show create table {db_name}.{row.tableName}\")\n",
    "            df_table = df_table.withColumn('database_name',lit(db_name)).withColumn('table_name',lit(row.tableName)).withColumn('type',lit('table'))\n",
    "            user_tab_def = df_table.alias('user_tab_def') if user_tab_def is None else user_tab_def.unionAll(df_table)\n",
    "    return user_tab_def"
   ]
  },
  {
   "cell_type": "code",
   "execution_count": null,
   "metadata": {
    "application/vnd.databricks.v1+cell": {
     "cellMetadata": {
      "byteLimit": 2048000,
      "rowLimit": 10000
     },
     "inputWidgets": {},
     "nuid": "fac7737f-a311-4654-a315-c8788fab7623",
     "showTitle": false,
     "title": ""
    }
   },
   "outputs": [],
   "source": [
    "def df_rows_to_list(df, column_name) -> []:\n",
    "    if df is None:\n",
    "        return []\n",
    "    else:\n",
    "        return [t[0] for t in df.select(column_name).toLocalIterator()]"
   ]
  },
  {
   "cell_type": "markdown",
   "metadata": {
    "application/vnd.databricks.v1+cell": {
     "cellMetadata": {},
     "inputWidgets": {},
     "nuid": "5de8c0d8-5945-4d83-bfcc-39cf2ae27638",
     "showTitle": false,
     "title": ""
    }
   },
   "source": [
    "Prepare view and table definitions"
   ]
  },
  {
   "cell_type": "code",
   "execution_count": null,
   "metadata": {
    "application/vnd.databricks.v1+cell": {
     "cellMetadata": {
      "byteLimit": 2048000,
      "rowLimit": 10000
     },
     "inputWidgets": {},
     "nuid": "147578c7-fe0a-4311-b831-f9bff7d20b7c",
     "showTitle": false,
     "title": ""
    }
   },
   "outputs": [],
   "source": [
    "user_view_def = user_view_definitions(in_db_name)\n",
    "user_tab_def = user_tab_definitions(in_db_name, df_rows_to_list(user_view_def,'table_name'))\n",
    "\n",
    "user_obj_def = user_tab_def if user_view_def is None else user_view_def.unionAll(user_tab_def)\n",
    "user_obj_def = user_obj_def.withColumn('latest_metadata_refresh', lit(datetime.now()))"
   ]
  },
  {
   "cell_type": "markdown",
   "metadata": {
    "application/vnd.databricks.v1+cell": {
     "cellMetadata": {},
     "inputWidgets": {},
     "nuid": "d2a0239a-8829-4102-9861-08c0b098e31b",
     "showTitle": false,
     "title": ""
    }
   },
   "source": [
    "Store results to a table"
   ]
  },
  {
   "cell_type": "code",
   "execution_count": null,
   "metadata": {
    "application/vnd.databricks.v1+cell": {
     "cellMetadata": {
      "byteLimit": 2048000,
      "rowLimit": 10000
     },
     "inputWidgets": {},
     "nuid": "a43c0637-5a87-4c63-9665-3ad97ec143df",
     "showTitle": false,
     "title": ""
    }
   },
   "outputs": [
    {
     "data": {
      "text/html": [
       "<style scoped>\n",
       "  .ansiout {\n",
       "    display: block;\n",
       "    unicode-bidi: embed;\n",
       "    white-space: pre-wrap;\n",
       "    word-wrap: break-word;\n",
       "    word-break: break-all;\n",
       "    font-family: \"Source Code Pro\", \"Menlo\", monospace;;\n",
       "    font-size: 13px;\n",
       "    color: #555;\n",
       "    margin-left: 4px;\n",
       "    line-height: 19px;\n",
       "  }\n",
       "</style>"
      ]
     },
     "metadata": {
      "application/vnd.databricks.v1+output": {
       "arguments": {},
       "data": "",
       "errorSummary": "Cancelled",
       "errorTraceType": "html",
       "metadata": {},
       "type": "ipynbError"
      }
     },
     "output_type": "display_data"
    }
   ],
   "source": [
    "user_obj_def.write.mode(\"overwrite\").saveAsTable(f\"{in_db_name}.{in_user_tab_def_name}\")"
   ]
  }
 ],
 "metadata": {
  "application/vnd.databricks.v1+notebook": {
   "dashboards": [],
   "language": "python",
   "notebookMetadata": {
    "mostRecentlyExecutedCommandWithImplicitDF": {
     "commandId": 4122867356957910,
     "dataframes": [
      "_sqldf"
     ]
    },
    "pythonIndentUnit": 4
   },
   "notebookName": "rm-adhok",
   "widgets": {
    "db_name": {
     "currentValue": "next_level_dm",
     "nuid": "3c1f379f-0856-4fd6-8617-ca718da571fa",
     "widgetInfo": {
      "defaultValue": "next_level_dm",
      "label": null,
      "name": "db_name",
      "options": {
       "validationRegex": null,
       "widgetType": "text"
      },
      "widgetType": "text"
     }
    },
    "user_table_def_name": {
     "currentValue": "dbx_user_tab_def",
     "nuid": "37c34428-79be-430c-93ed-6c0debb2e4b6",
     "widgetInfo": {
      "defaultValue": "dbx_user_tab_def",
      "label": null,
      "name": "user_table_def_name",
      "options": {
       "validationRegex": null,
       "widgetType": "text"
      },
      "widgetType": "text"
     }
    }
   }
  },
  "language_info": {
   "name": "python"
  }
 },
 "nbformat": 4,
 "nbformat_minor": 0
}
