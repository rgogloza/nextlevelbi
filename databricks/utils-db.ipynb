{
 "cells": [
  {
   "cell_type": "markdown",
   "metadata": {
    "application/vnd.databricks.v1+cell": {
     "cellMetadata": {},
     "inputWidgets": {},
     "nuid": "cc2f470b-b051-4fdd-af3b-727c5c2f5721",
     "showTitle": false,
     "title": ""
    }
   },
   "source": [
    "# Notebook initialization\n",
    "- Importing libraries\n",
    "- Configuration - setting up parameters"
   ]
  },
  {
   "cell_type": "code",
   "execution_count": 0,
   "metadata": {
    "application/vnd.databricks.v1+cell": {
     "cellMetadata": {},
     "inputWidgets": {},
     "nuid": "3dbbc136-da92-4b74-9860-f4f79dd1eefc",
     "showTitle": false,
     "title": ""
    }
   },
   "outputs": [],
   "source": [
    "import json\n",
    "import requests\n",
    "from azure.identity import ClientSecretCredential"
   ]
  },
  {
   "cell_type": "code",
   "execution_count": 0,
   "metadata": {
    "application/vnd.databricks.v1+cell": {
     "cellMetadata": {},
     "inputWidgets": {},
     "nuid": "5c21743c-8beb-43fb-95e7-857b741d5035",
     "showTitle": false,
     "title": ""
    }
   },
   "outputs": [],
   "source": [
    "tenant_id = 'your-tenant-id-from-azuread'\n",
    "\n",
    "#key-vault-dbxsecrets - this is databricks secret scope, that points to Azure Active Directory Key Vault\n",
    "client_id = dbutils.secrets.get(scope = 'key-vault-dbxsecrets', key = 'your-sp-appid')\n",
    "client_secret = dbutils.secrets.get(scope = 'key-vault-dbxsecrets', key = 'your-sp-secret')\n",
    "\n",
    "server_name = 'your-azure-sql-server-name'\n",
    "db_name = 'your-azure-database-name'\n",
    "\n",
    "db_scope = 'https://database.windows.net/.default'\n",
    "azure_sql_url = f'jdbc:sqlserver://{server_name}.database.windows.net'\n",
    "database = f'{db_name}'"
   ]
  },
  {
   "cell_type": "markdown",
   "metadata": {
    "application/vnd.databricks.v1+cell": {
     "cellMetadata": {},
     "inputWidgets": {},
     "nuid": "b4b16867-b477-40b5-8b95-af1a08e4dc68",
     "showTitle": false,
     "title": ""
    }
   },
   "source": [
    "## Requesting token"
   ]
  },
  {
   "cell_type": "code",
   "execution_count": 0,
   "metadata": {
    "application/vnd.databricks.v1+cell": {
     "cellMetadata": {},
     "inputWidgets": {},
     "nuid": "ccaa795c-fc85-4abc-b554-08e903cd5940",
     "showTitle": false,
     "title": ""
    }
   },
   "outputs": [],
   "source": [
    "auth = ClientSecretCredential(authority = 'https://login.microsoftonline.com/',\n",
    "                                                        tenant_id = tenant_id,\n",
    "                                                        client_id = client_id,\n",
    "                                                        client_secret = client_secret)\n",
    "\n",
    "db_access_token = auth.get_token(db_scope)\n",
    "db_access_token = db_access_token.token"
   ]
  },
  {
   "cell_type": "markdown",
   "metadata": {
    "application/vnd.databricks.v1+cell": {
     "cellMetadata": {},
     "inputWidgets": {},
     "nuid": "392a4577-092d-4766-ae3c-db21a5a6867f",
     "showTitle": false,
     "title": ""
    }
   },
   "source": [
    "## Some useful functions"
   ]
  },
  {
   "cell_type": "code",
   "execution_count": 0,
   "metadata": {
    "application/vnd.databricks.v1+cell": {
     "cellMetadata": {},
     "inputWidgets": {},
     "nuid": "4802d84b-ecba-4664-81fd-c8a663cd6043",
     "showTitle": false,
     "title": ""
    }
   },
   "outputs": [],
   "source": [
    "def read_table(table_name: str):\n",
    "    return spark.read.format('jdbc').option('url', azure_sql_url).option('dbtable', table_name).option('database', database).option('accessToken', db_access_token).load()"
   ]
  },
  {
   "cell_type": "code",
   "execution_count": 0,
   "metadata": {
    "application/vnd.databricks.v1+cell": {
     "cellMetadata": {},
     "inputWidgets": {},
     "nuid": "f4aaeda9-a280-4c93-b73c-eeafd094ab6e",
     "showTitle": false,
     "title": ""
    }
   },
   "outputs": [],
   "source": [
    "def execute_query(query: str):\n",
    "    return spark.read.format('jdbc').option('url', azure_sql_url).option('query', query).option('database', database).option('accessToken', db_access_token).load()"
   ]
  },
  {
   "cell_type": "code",
   "execution_count": 0,
   "metadata": {
    "application/vnd.databricks.v1+cell": {
     "cellMetadata": {},
     "inputWidgets": {},
     "nuid": "d3e6a5bc-3a77-4c01-9c3c-2b494c2f2073",
     "showTitle": false,
     "title": ""
    }
   },
   "outputs": [],
   "source": [
    "def write_table(df, table_name:str):    \n",
    "    return df.write.format('jdbc').option('url', azure_sql_url).option('dbtable', table_name).option('database', database).option('accessToken', db_access_token).mode('append').save()"
   ]
  },
  {
   "cell_type": "code",
   "execution_count": 0,
   "metadata": {
    "application/vnd.databricks.v1+cell": {
     "cellMetadata": {},
     "inputWidgets": {},
     "nuid": "56e5e034-5fc6-4e59-84db-83bb9d688e31",
     "showTitle": false,
     "title": ""
    }
   },
   "outputs": [],
   "source": [
    "def truncate_and_write_table(df,table_name: str):\n",
    "    return df.write.format('jdbc').option('url', azure_sql_url).option('truncate', 'true').option('dbtable', table_name).option('database', database).option('accessToken', db_access_token).mode('overwrite').save()"
   ]
  }
 ],
 "metadata": {
  "application/vnd.databricks.v1+notebook": {
   "dashboards": [],
   "language": "python",
   "notebookMetadata": {
    "pythonIndentUnit": 4
   },
   "notebookName": "utils-db",
   "notebookOrigID": 3997242595643674,
   "widgets": {}
  }
 },
 "nbformat": 4,
 "nbformat_minor": 0
}
