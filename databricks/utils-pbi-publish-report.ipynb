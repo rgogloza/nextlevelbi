{
 "cells": [
  {
   "cell_type": "markdown",
   "metadata": {
    "application/vnd.databricks.v1+cell": {
     "cellMetadata": {},
     "inputWidgets": {},
     "nuid": "dcd9cca7-ba49-445f-ba3d-0d080d9a2ec3",
     "showTitle": false,
     "title": ""
    }
   },
   "source": [
    "# Utility to publish Power BI reports in a workspace\n",
    "#### Configuring libraries and defining constants"
   ]
  },
  {
   "cell_type": "code",
   "execution_count": null,
   "metadata": {
    "application/vnd.databricks.v1+cell": {
     "cellMetadata": {
      "byteLimit": 2048000,
      "rowLimit": 10000
     },
     "inputWidgets": {},
     "nuid": "865e03b5-df80-45bc-9772-c7603cbbbd3a",
     "showTitle": false,
     "title": ""
    }
   },
   "outputs": [],
   "source": [
    "import requests, pandas as pd\n",
    "from azure.identity import ClientSecretCredential\n",
    "from pyspark.sql.functions import lit"
   ]
  },
  {
   "cell_type": "code",
   "execution_count": null,
   "metadata": {
    "application/vnd.databricks.v1+cell": {
     "cellMetadata": {
      "byteLimit": 2048000,
      "rowLimit": 10000
     },
     "inputWidgets": {},
     "nuid": "7e02e497-853b-4ca5-a98f-ae1045c6d75b",
     "showTitle": false,
     "title": ""
    }
   },
   "outputs": [],
   "source": [
    "tenant_id = 'your-1111-aaaa-bbbb-tenantid'\n",
    "\n",
    "client_id = dbutils.secrets.get(scope = 'key-vault-dbxsecrets', key = 'next-level-bi-sp-appid')\n",
    "client_secret = dbutils.secrets.get(scope = 'key-vault-dbxsecrets', key = 'next-level-bi-sp-secret')\n",
    "\n",
    "pbi_scope = 'https://analysis.windows.net/powerbi/api/.default'\n",
    "BASE_URL = 'https://api.powerbi.com/v1.0/myorg/'"
   ]
  },
  {
   "cell_type": "markdown",
   "metadata": {
    "application/vnd.databricks.v1+cell": {
     "cellMetadata": {},
     "inputWidgets": {},
     "nuid": "c2503b48-4f98-4008-a87b-c4a01c6ee763",
     "showTitle": false,
     "title": ""
    }
   },
   "source": [
    "## Authorization"
   ]
  },
  {
   "cell_type": "code",
   "execution_count": null,
   "metadata": {
    "application/vnd.databricks.v1+cell": {
     "cellMetadata": {
      "byteLimit": 2048000,
      "rowLimit": 10000
     },
     "inputWidgets": {},
     "nuid": "beb5c1e0-5c65-45d6-99d3-2d5df4528026",
     "showTitle": false,
     "title": ""
    }
   },
   "outputs": [],
   "source": [
    "auth = ClientSecretCredential(authority = 'https://login.microsoftonline.com/',\n",
    "                                                        tenant_id = tenant_id,\n",
    "                                                        client_id = client_id,\n",
    "                                                        client_secret = client_secret)\n",
    "\n",
    "access_token = auth.get_token(pbi_scope)\n",
    "token = access_token.token\n",
    "AUTHORIZATION = {'Authorization': f'Bearer {token}'}"
   ]
  },
  {
   "cell_type": "markdown",
   "metadata": {
    "application/vnd.databricks.v1+cell": {
     "cellMetadata": {},
     "inputWidgets": {},
     "nuid": "c124cb6f-3bfd-4347-9ff6-8e332208e588",
     "showTitle": false,
     "title": ""
    }
   },
   "source": [
    "## Defining and executing function to publish Power BI report"
   ]
  },
  {
   "cell_type": "code",
   "execution_count": null,
   "metadata": {
    "application/vnd.databricks.v1+cell": {
     "cellMetadata": {
      "byteLimit": 2048000,
      "rowLimit": 10000
     },
     "inputWidgets": {},
     "nuid": "530e2f51-0676-45d3-a782-d4d0864eb856",
     "showTitle": false,
     "title": ""
    }
   },
   "outputs": [],
   "source": [
    "def publish_powerbi_report(workspace_id: str, report_name: str, report_content):\n",
    "    payload = {\"datasetDisplayName\": report_name,\n",
    "               \"nameConflict\":\"CreateOrOverwrite\"\n",
    "               }\n",
    "    files = {report_name: report_content}\n",
    "    return requests.post(url=f\"{BASE_URL}groups/{workspace_id}/imports\",headers=AUTHORIZATION,params=payload, files=files).json()"
   ]
  },
  {
   "cell_type": "code",
   "execution_count": null,
   "metadata": {
    "application/vnd.databricks.v1+cell": {
     "cellMetadata": {
      "byteLimit": 2048000,
      "rowLimit": 10000
     },
     "inputWidgets": {},
     "nuid": "9dcc5e9a-8b52-4360-b426-f9d74b2d506a",
     "showTitle": false,
     "title": ""
    }
   },
   "outputs": [],
   "source": [
    "group_id = '1234567-1234-4567-0987-12345678901'\n",
    "with open('/dbfs/mnt/landing-zone/Next Level BI.pbix', 'rb') as f:\n",
    "    print(publish_powerbi_report(group_id, \"Next Level BI.pbix\",f))"
   ]
  }
 ],
 "metadata": {
  "application/vnd.databricks.v1+notebook": {
   "dashboards": [],
   "language": "python",
   "notebookMetadata": {
    "mostRecentlyExecutedCommandWithImplicitDF": {
     "commandId": 1160483827450365,
     "dataframes": [
      "_sqldf"
     ]
    },
    "pythonIndentUnit": 4
   },
   "notebookName": "utils-pbi-publish-report",
   "widgets": {}
  },
  "language_info": {
   "name": "python"
  }
 },
 "nbformat": 4,
 "nbformat_minor": 0
}
