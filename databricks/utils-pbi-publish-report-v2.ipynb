{
 "cells": [
  {
   "cell_type": "markdown",
   "metadata": {
    "application/vnd.databricks.v1+cell": {
     "cellMetadata": {},
     "inputWidgets": {},
     "nuid": "c2afd9ff-cc1f-49cb-8b39-28be8d475267",
     "showTitle": false,
     "tableResultSettingsMap": {},
     "title": ""
    }
   },
   "source": [
    "## Utility to publish Power BI reports in a workspace\n"
   ]
  },
  {
   "cell_type": "markdown",
   "metadata": {
    "application/vnd.databricks.v1+cell": {
     "cellMetadata": {},
     "inputWidgets": {},
     "nuid": "c94c511e-20cf-4169-a7d9-4a1e786b7e17",
     "showTitle": false,
     "tableResultSettingsMap": {},
     "title": ""
    }
   },
   "source": [
    "Defining constants"
   ]
  },
  {
   "cell_type": "code",
   "execution_count": null,
   "metadata": {
    "application/vnd.databricks.v1+cell": {
     "cellMetadata": {
      "byteLimit": 2048000,
      "rowLimit": 10000
     },
     "inputWidgets": {},
     "nuid": "2b7c7d53-cd2e-4f03-b84e-ee3b860704d4",
     "showTitle": false,
     "tableResultSettingsMap": {},
     "title": ""
    }
   },
   "outputs": [],
   "source": [
    "TENANT_ID = \"your-1111-aaaa-bbbb-tenantid\"\n",
    "KEY_VAULT_SECRET_SCOPE = \"key-vault-dbxsecrets\"\n",
    "\n",
    "AZURE_STORAGE_ACCOUNT_NAME = \"nextlevelbi01\"\n",
    "AZURE_STORAGE_CONTAINER = \"landing-zone\"\n",
    "\n",
    "PBI_WORKSPACE_ID = \"1234567-1234-4567-0987-12345678901\"\n",
    "PBI_REPORT_NAME = \"Next Level Report.pbix\""
   ]
  },
  {
   "cell_type": "markdown",
   "metadata": {
    "application/vnd.databricks.v1+cell": {
     "cellMetadata": {},
     "inputWidgets": {},
     "nuid": "fb5a7225-be7d-4079-843d-aae8e19ff92d",
     "showTitle": false,
     "tableResultSettingsMap": {},
     "title": ""
    }
   },
   "source": [
    "### Authenticating in Azure"
   ]
  },
  {
   "cell_type": "code",
   "execution_count": null,
   "metadata": {
    "application/vnd.databricks.v1+cell": {
     "cellMetadata": {
      "byteLimit": 2048000,
      "rowLimit": 10000
     },
     "inputWidgets": {},
     "nuid": "44002768-18a4-4e6c-9889-247ab5b316df",
     "showTitle": false,
     "tableResultSettingsMap": {},
     "title": ""
    }
   },
   "outputs": [],
   "source": [
    "from azure.storage.filedatalake import DataLakeServiceClient\n",
    "from azure.identity import ClientSecretCredential\n",
    "\n",
    "client_id = dbutils.secrets.get(scope = KEY_VAULT_SECRET_SCOPE, key = 'next-level-bi-sp-appid')\n",
    "client_secret = dbutils.secrets.get(scope = KEY_VAULT_SECRET_SCOPE, key = 'next-level-bi-sp-secret')\n",
    "\n",
    "credential = ClientSecretCredential(TENANT_ID,client_id,client_secret)\n",
    "datalake_service_client = DataLakeServiceClient(account_url=f\"https://{AZURE_STORAGE_ACCOUNT_NAME}.dfs.core.windows.net/\",credential=credential)"
   ]
  },
  {
   "cell_type": "markdown",
   "metadata": {
    "application/vnd.databricks.v1+cell": {
     "cellMetadata": {},
     "inputWidgets": {},
     "nuid": "a8e0f3ff-826b-411e-b482-8e157ee023c8",
     "showTitle": false,
     "tableResultSettingsMap": {},
     "title": ""
    }
   },
   "source": [
    "### Reading report content and publishing to the workspace"
   ]
  },
  {
   "cell_type": "code",
   "execution_count": null,
   "metadata": {
    "application/vnd.databricks.v1+cell": {
     "cellMetadata": {
      "byteLimit": 2048000,
      "rowLimit": 10000
     },
     "inputWidgets": {},
     "nuid": "71453836-ebb9-4c8b-b85e-49342865ee75",
     "showTitle": false,
     "tableResultSettingsMap": {},
     "title": ""
    }
   },
   "outputs": [],
   "source": [
    "fsc = datalake_service_client.get_file_system_client(AZURE_STORAGE_CONTAINER)\n",
    "for path in fsc.get_paths():\n",
    "    if '.pbix' in path.name:\n",
    "        print(path.name)\n",
    "        fc = fsc.get_file_client(path.name)\n",
    "        file_content = fc.download_file()\n",
    "        publish_report_id = publish_powerbi_report(PBI_WORKSPACE_ID, PBI_REPORT_NAME, file_content)\n",
    "        print(publish_report_id)"
   ]
  }
 ],
 "metadata": {
  "application/vnd.databricks.v1+notebook": {
   "dashboards": [],
   "environmentMetadata": null,
   "language": "python",
   "notebookMetadata": {
    "pythonIndentUnit": 4
   },
   "notebookName": "utils-pbi-publish-report-v2",
   "widgets": {}
  },
  "language_info": {
   "name": "python"
  }
 },
 "nbformat": 4,
 "nbformat_minor": 0
}
