{
 "cells": [
  {
   "cell_type": "markdown",
   "metadata": {
    "application/vnd.databricks.v1+cell": {
     "cellMetadata": {
      "byteLimit": 2048000,
      "rowLimit": 10000
     },
     "inputWidgets": {},
     "nuid": "bfcba793-1234-5678-8612-d586d24bcc69",
     "showTitle": false,
     "title": ""
    }
   },
   "source": [
    "\n",
    "## Notebook to cross check jobs vs workspace\n",
    "Notebook validates if notebook in workspace are present in the job, also it can check if in job there is no notebook that has been just deleted.\n",
    "\n",
    "This notebook created two tables:\n",
    "1. dbx_user_notebook\n",
    "2. dbx_user_job_task"
   ]
  },
  {
   "cell_type": "code",
   "execution_count": null,
   "metadata": {
    "application/vnd.databricks.v1+cell": {
     "cellMetadata": {
      "byteLimit": 2048000,
      "rowLimit": 10000
     },
     "inputWidgets": {},
     "nuid": "0cb5454b-873c-4c6e-b7a4-7618facce244",
     "showTitle": false,
     "title": ""
    }
   },
   "outputs": [],
   "source": [
    "dbutils.widgets.text('schema_name','trsales_dm')\n",
    "dbutils.widgets.text('user_notebook_table','dbx_user_notebook')\n",
    "dbutils.widgets.text('user_job_task_table','dbx_user_job_task')\n",
    "\n",
    "in_schema_name = dbutils.widgets.get('schema_name')\n",
    "in_user_notebook_table = dbutils.widgets.get('user_notebook_table')\n",
    "in_user_job_task_table = dbutils.widgets.get('user_job_task_table')"
   ]
  },
  {
   "cell_type": "code",
   "execution_count": null,
   "metadata": {
    "application/vnd.databricks.v1+cell": {
     "cellMetadata": {
      "byteLimit": 2048000,
      "rowLimit": 10000
     },
     "inputWidgets": {},
     "nuid": "b1b94fc4-097e-4a3a-bb04-af737c41d386",
     "showTitle": false,
     "title": ""
    }
   },
   "outputs": [],
   "source": [
    "import requests\n",
    "import os"
   ]
  },
  {
   "cell_type": "code",
   "execution_count": null,
   "metadata": {
    "application/vnd.databricks.v1+cell": {
     "cellMetadata": {
      "byteLimit": 2048000,
      "rowLimit": 10000
     },
     "inputWidgets": {},
     "nuid": "c6bb41e2-ecfa-4033-9b55-e2c6c1e8e1a4",
     "showTitle": false,
     "title": ""
    }
   },
   "outputs": [],
   "source": [
    "DBX_HOST = os.environ['DBX_HOST']\n",
    "DBX_TOKEN = os.environ['DBX_TOKEN']"
   ]
  },
  {
   "cell_type": "markdown",
   "metadata": {
    "application/vnd.databricks.v1+cell": {
     "cellMetadata": {
      "byteLimit": 2048000,
      "rowLimit": 10000
     },
     "inputWidgets": {},
     "nuid": "a10dee19-8248-4813-863b-e88de9a32887",
     "showTitle": false,
     "title": ""
    }
   },
   "source": [
    "Rest API calls"
   ]
  },
  {
   "cell_type": "code",
   "execution_count": null,
   "metadata": {
    "application/vnd.databricks.v1+cell": {
     "cellMetadata": {
      "byteLimit": 2048000,
      "rowLimit": 10000
     },
     "inputWidgets": {},
     "nuid": "2069a77a-2d5a-4774-b1f4-d5f6147dd50d",
     "showTitle": false,
     "title": ""
    }
   },
   "outputs": [],
   "source": [
    "class BearerAuth(requests.auth.AuthBase):\n",
    "    def __init__(self):\n",
    "        self.token = DBX_TOKEN\n",
    "    def __call__(self, r):\n",
    "        r.headers[\"authorization\"] = \"Bearer \" + self.token\n",
    "        return r"
   ]
  },
  {
   "cell_type": "code",
   "execution_count": null,
   "metadata": {
    "application/vnd.databricks.v1+cell": {
     "cellMetadata": {
      "byteLimit": 2048000,
      "rowLimit": 10000
     },
     "inputWidgets": {},
     "nuid": "a4145559-4f89-4de4-96bf-584effd12141",
     "showTitle": false,
     "title": ""
    }
   },
   "outputs": [],
   "source": [
    "def get_job_name(job_id: str) -> str:\n",
    "    return requests.get(f\"{DBX_HOST}/api/2.1/jobs/get?job_id={job_id}\", auth=BearerAuth()).json()"
   ]
  },
  {
   "cell_type": "code",
   "execution_count": null,
   "metadata": {
    "application/vnd.databricks.v1+cell": {
     "cellMetadata": {
      "byteLimit": 2048000,
      "rowLimit": 10000
     },
     "inputWidgets": {},
     "nuid": "b6b0a8e6-37d8-4364-bfba-6878e829af65",
     "showTitle": false,
     "title": ""
    }
   },
   "outputs": [],
   "source": [
    "def list_jobs() -> []:\n",
    "    data = {\"limit\" : \"100\"}\n",
    "    return requests.get(f\"{DBX_HOST}/api/2.1/jobs/list\",json=data, auth=BearerAuth()).json()"
   ]
  },
  {
   "cell_type": "code",
   "execution_count": null,
   "metadata": {
    "application/vnd.databricks.v1+cell": {
     "cellMetadata": {
      "byteLimit": 2048000,
      "rowLimit": 10000
     },
     "inputWidgets": {},
     "nuid": "1b86a6f8-3af1-409c-9d02-ca7afb214c48",
     "showTitle": false,
     "title": ""
    }
   },
   "outputs": [],
   "source": [
    "def list_workspace(path: '/Shared/') -> [] :\n",
    "    data = {\"path\" : path}\n",
    "    return requests.get(f\"{DBX_HOST}/api/2.0/workspace/list\",json=data, auth=BearerAuth()).json()['objects']"
   ]
  },
  {
   "cell_type": "markdown",
   "metadata": {
    "application/vnd.databricks.v1+cell": {
     "cellMetadata": {
      "byteLimit": 2048000,
      "rowLimit": 10000
     },
     "inputWidgets": {},
     "nuid": "9af2ae5a-f9d2-451d-ab22-856f5dfd5a2e",
     "showTitle": false,
     "title": ""
    }
   },
   "source": [
    "Utility functions\n",
    "- listing notebooks in jobs\n",
    "- listing notebooks in workspace\n",
    "- saving results to tables"
   ]
  },
  {
   "cell_type": "code",
   "execution_count": null,
   "metadata": {
    "application/vnd.databricks.v1+cell": {
     "cellMetadata": {
      "byteLimit": 2048000,
      "rowLimit": 10000
     },
     "inputWidgets": {},
     "nuid": "958b12ed-612e-467b-810f-413e795cb574",
     "showTitle": false,
     "title": ""
    }
   },
   "outputs": [],
   "source": [
    "def list_notebook_in_jobs() -> []:\n",
    "    \"\"\"\n",
    "    For all jobs, listing tasks / notebooks assigne to the job.\n",
    "    \n",
    "    Returns\n",
    "    -------\n",
    "    list\n",
    "        a list of tasks linked to jobs.\n",
    "    \"\"\"\n",
    "\n",
    "    job_ids = [job['job_id'] for job in list_jobs()['jobs']]\n",
    "    tasks_in_jobs = []\n",
    "    for job_id in job_ids:\n",
    "        job = get_job_name(job_id)    \n",
    "        [tasks_in_jobs.append([job['job_id'], job['settings']['name'], task['task_key'], task['notebook_task']['notebook_path']]) for task in job['settings']['tasks']]        \n",
    "\n",
    "    return tasks_in_jobs"
   ]
  },
  {
   "cell_type": "code",
   "execution_count": null,
   "metadata": {
    "application/vnd.databricks.v1+cell": {
     "cellMetadata": {
      "byteLimit": 2048000,
      "rowLimit": 10000
     },
     "inputWidgets": {},
     "nuid": "2bb525f9-1b44-476d-a209-9b3de0d7b4a5",
     "showTitle": false,
     "title": ""
    }
   },
   "outputs": [],
   "source": [
    "def list_notebooks_in_workspace(workspace_path) -> []:\n",
    "    \"\"\"\n",
    "    Lists notebooks in workspace. If folder in a path found, it iterates recourively through the directory tree.\n",
    "\n",
    "    Parameters\n",
    "    ----------\n",
    "    workspace_path : str\n",
    "        worspace path where to look for the tasks\n",
    "\n",
    "    Returns\n",
    "    -------\n",
    "    list\n",
    "        a list of notebooks\n",
    "    \"\"\"  \n",
    "    notebook_in_wks = []\n",
    "    for obj in list_workspace(workspace_path):\n",
    "        if obj['object_type'] == 'DIRECTORY':            \n",
    "            notebook_in_wks.extend(list_notebooks_in_workspace(obj['path']))\n",
    "            \n",
    "        elif obj['object_type'] == 'NOTEBOOK':\n",
    "            notebook_in_wks.append([obj['path'], obj['path'].split('/')[-1]])\n",
    "\n",
    "    return notebook_in_wks"
   ]
  },
  {
   "cell_type": "code",
   "execution_count": null,
   "metadata": {
    "application/vnd.databricks.v1+cell": {
     "cellMetadata": {
      "byteLimit": 2048000,
      "rowLimit": 10000
     },
     "inputWidgets": {},
     "nuid": "0cd303e1-90d3-4668-a64d-7deb1e7b9746",
     "showTitle": false,
     "title": ""
    }
   },
   "outputs": [],
   "source": [
    "def store_dbx_job_notebooks(tasks_in_jobs: [], schema_name: str, user_job_task_table: str):\n",
    "    \"\"\"\n",
    "    Lists tasks in jobs and saves them to the destination defined in the parameters\n",
    "\n",
    "    Parameters\n",
    "    ----------\n",
    "    schema_name : str\n",
    "        target schema\n",
    "    user_job_task_table : str\n",
    "        target table where results will be stored\n",
    "    \"\"\"\n",
    "    columns = ['job_id','job_name','task_name','task_path']\n",
    "    df = spark.createDataFrame(tasks_in_jobs, columns)\n",
    "    df.write.mode(\"overwrite\").saveAsTable(f'{schema_name}.{user_job_task_table}')\n"
   ]
  },
  {
   "cell_type": "code",
   "execution_count": null,
   "metadata": {
    "application/vnd.databricks.v1+cell": {
     "cellMetadata": {
      "byteLimit": 2048000,
      "rowLimit": 10000
     },
     "inputWidgets": {},
     "nuid": "5ba99678-370d-4c11-878c-51b9f1cf0bf0",
     "showTitle": false,
     "title": ""
    }
   },
   "outputs": [],
   "source": [
    "def store_dbx_workspace_notebooks(workspace_notebooks: [], schema_name: str, user_notebook_table: str):\n",
    "    \"\"\"\n",
    "    Lists notebooks in workspace and saves them to the destination defined in the parameters\n",
    "\n",
    "    Parameters\n",
    "    ----------\n",
    "    schema_name : str\n",
    "        target schema\n",
    "    user_job_task_table : str\n",
    "        target table where results will be stored\n",
    "    \"\"\"\n",
    "    columns = ['notebook_path','notebook_name']\n",
    "    df = spark.createDataFrame(workspace_notebooks, columns)\n",
    "    df.write.mode('overwrite').saveAsTable(f'{schema_name}.{user_notebook_table}')"
   ]
  },
  {
   "cell_type": "markdown",
   "metadata": {
    "application/vnd.databricks.v1+cell": {
     "cellMetadata": {
      "byteLimit": 2048000,
      "rowLimit": 10000
     },
     "inputWidgets": {},
     "nuid": "c792b3ce-4a43-4cf7-8db1-bcb569018032",
     "showTitle": false,
     "title": ""
    }
   },
   "source": [
    "Querying API, saving results and final comparison"
   ]
  },
  {
   "cell_type": "code",
   "execution_count": null,
   "metadata": {
    "application/vnd.databricks.v1+cell": {
     "cellMetadata": {
      "byteLimit": 2048000,
      "rowLimit": 10000
     },
     "inputWidgets": {},
     "nuid": "37df373e-d43e-4a14-87bc-daad04afc892",
     "showTitle": false,
     "title": ""
    }
   },
   "outputs": [],
   "source": [
    "workspace_name = '/Shared/'\n",
    "job_notebooks = list_notebook_in_jobs()\n",
    "store_dbx_job_notebooks(job_notebooks,in_schema_name, in_user_job_task_table)\n",
    "workspace_notebooks = list_notebooks_in_workspace(workspace_name)\n",
    "store_dbx_workspace_notebooks(workspace_notebooks, in_schema_name, in_user_notebook_table)"
   ]
  },
  {
   "cell_type": "code",
   "execution_count": null,
   "metadata": {
    "application/vnd.databricks.v1+cell": {
     "cellMetadata": {
      "byteLimit": 2048000,
      "implicitDf": true,
      "rowLimit": 10000
     },
     "inputWidgets": {},
     "nuid": "c4055314-eec2-4cc3-a020-116c56aeeeee",
     "showTitle": false,
     "title": ""
    }
   },
   "outputs": [],
   "source": [
    "%sql\n",
    "\n",
    "with user_notebooks as (\n",
    "select * from ${schema_name}.${user_notebook_table} un\n",
    "where notebook_path not like '%90 debug%'\n",
    ")\n",
    "select * from user_notebooks un\n",
    "full outer join ${schema_name}.${user_job_task_table} ujn on (un.notebook_path = ujn.task_path)\n",
    "where un.notebook_path is null or ujn.task_path is null"
   ]
  }
 ],
 "metadata": {
  "application/vnd.databricks.v1+notebook": {
   "dashboards": [],
   "language": "python",
   "notebookMetadata": {
    "mostRecentlyExecutedCommandWithImplicitDF": {
     "commandId": 583768722351401,
     "dataframes": [
      "_sqldf"
     ]
    },
    "pythonIndentUnit": 4
   },
   "notebookName": "dbx_job_notebook_cross_check",
   "widgets": {
    "schema_name": {
     "currentValue": "trsales_dm",
     "nuid": "6e9e1c29-2172-493e-b9f3-9a4f8c0106cb",
     "widgetInfo": {
      "defaultValue": "trsales_dm",
      "label": null,
      "name": "schema_name",
      "options": {
       "validationRegex": null,
       "widgetType": "text"
      },
      "widgetType": "text"
     }
    },
    "user_job_task_table": {
     "currentValue": "dbx_user_job_task",
     "nuid": "c4f8250d-eaca-4dd2-b3d6-6f07ec068b42",
     "widgetInfo": {
      "defaultValue": "dbx_user_job_task",
      "label": null,
      "name": "user_job_task_table",
      "options": {
       "validationRegex": null,
       "widgetType": "text"
      },
      "widgetType": "text"
     }
    },
    "user_notebook_table": {
     "currentValue": "dbx_user_notebook",
     "nuid": "dc5ecf1b-795f-40ed-95ad-be52354775c1",
     "widgetInfo": {
      "defaultValue": "dbx_user_notebook",
      "label": null,
      "name": "user_notebook_table",
      "options": {
       "validationRegex": null,
       "widgetType": "text"
      },
      "widgetType": "text"
     }
    }
   }
  },
  "language_info": {
   "name": "python"
  }
 },
 "nbformat": 4,
 "nbformat_minor": 0
}
