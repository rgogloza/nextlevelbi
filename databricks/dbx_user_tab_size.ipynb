{
 "cells": [
  {
   "attachments": {},
   "cell_type": "markdown",
   "metadata": {
    "application/vnd.databricks.v1+cell": {
     "cellMetadata": {
      "byteLimit": 2048000,
      "rowLimit": 10000
     },
     "inputWidgets": {},
     "nuid": "6f117e9e-e88f-44fe-a403-4e5e0d164643",
     "showTitle": false,
     "title": ""
    }
   },
   "source": [
    "## Create User Table Size\n",
    "This table contains data about\n",
    "- table size in bytes and giga bytes\n",
    "- row count\n",
    "- when table was created and updated\n",
    "- what is the number of files per table\n",
    "- what is estimated size per file \n",
    "- partitioned columns\n",
    "- clutered columns\n",
    "- statistics"
   ]
  },
  {
   "cell_type": "markdown",
   "metadata": {
    "application/vnd.databricks.v1+cell": {
     "cellMetadata": {
      "byteLimit": 2048000,
      "rowLimit": 10000
     },
     "inputWidgets": {},
     "nuid": "3bcd665d-7d90-465a-b6ef-bac1171714cf",
     "showTitle": false,
     "title": ""
    }
   },
   "source": [
    "Preparing the fundation, widgets to setup parameteres and imports"
   ]
  },
  {
   "cell_type": "code",
   "execution_count": null,
   "metadata": {
    "application/vnd.databricks.v1+cell": {
     "cellMetadata": {
      "byteLimit": 2048000,
      "rowLimit": 10000
     },
     "inputWidgets": {},
     "nuid": "92df8f6a-101d-43db-83a6-f11787269c77",
     "showTitle": false,
     "title": ""
    }
   },
   "outputs": [],
   "source": [
    "dbutils.widgets.text('target_schema', 'next_level_dm')\n",
    "dbutils.widgets.text('user_tab_size_table_name', 'dbx_user_tab_size')"
   ]
  },
  {
   "cell_type": "code",
   "execution_count": null,
   "metadata": {
    "application/vnd.databricks.v1+cell": {
     "cellMetadata": {
      "byteLimit": 2048000,
      "rowLimit": 10000
     },
     "inputWidgets": {},
     "nuid": "590bb746-0d79-4858-bb97-6b052d4bf32f",
     "showTitle": false,
     "title": ""
    }
   },
   "outputs": [],
   "source": [
    "in_target_schema = dbutils.widgets.get('target_schema')\n",
    "in_user_tab_size = dbutils.widgets.get('user_tab_size_table_name')"
   ]
  },
  {
   "cell_type": "code",
   "execution_count": null,
   "metadata": {
    "application/vnd.databricks.v1+cell": {
     "cellMetadata": {
      "byteLimit": 2048000,
      "rowLimit": 10000
     },
     "inputWidgets": {},
     "nuid": "f5d17e14-17d3-4b58-b3b2-dfae40c34be9",
     "showTitle": false,
     "title": ""
    }
   },
   "outputs": [],
   "source": [
    "from pyspark.sql.functions import col, lit"
   ]
  },
  {
   "cell_type": "markdown",
   "metadata": {
    "application/vnd.databricks.v1+cell": {
     "cellMetadata": {
      "byteLimit": 2048000,
      "rowLimit": 10000
     },
     "inputWidgets": {},
     "nuid": "aae50baa-2fe4-474b-ac8f-675e48d777d2",
     "showTitle": false,
     "title": ""
    }
   },
   "source": [
    "getting list of a table from schema, it requires dbx_user_tab_columns table to be creted, check user_tab_columns.ipynb\n",
    "\n",
    "Filtering out views, user and temp tables"
   ]
  },
  {
   "cell_type": "code",
   "execution_count": null,
   "metadata": {
    "application/vnd.databricks.v1+cell": {
     "cellMetadata": {
      "byteLimit": 2048000,
      "rowLimit": 10000
     },
     "inputWidgets": {},
     "nuid": "b824fc64-7ab5-4d4b-ab1f-1ca4f90ba139",
     "showTitle": false,
     "title": ""
    }
   },
   "outputs": [],
   "source": [
    "all_tables = spark.sql(f\"select distinct table_name, substr(table_name,1,locate('_', table_name)-1) as table_prefix from {in_target_schema}.dbx_user_tab_columns where table_name not like 'v%' and table_name not like 'dbx%' and table_name not like 'z%' \").collect()"
   ]
  },
  {
   "cell_type": "markdown",
   "metadata": {
    "application/vnd.databricks.v1+cell": {
     "cellMetadata": {
      "byteLimit": 2048000,
      "rowLimit": 10000
     },
     "inputWidgets": {},
     "nuid": "d8881a7c-261a-4165-86c7-ba1b242dabb2",
     "showTitle": false,
     "title": ""
    }
   },
   "source": [
    "runnig describe detail on tables listed above"
   ]
  },
  {
   "cell_type": "code",
   "execution_count": null,
   "metadata": {
    "application/vnd.databricks.v1+cell": {
     "cellMetadata": {
      "byteLimit": 2048000,
      "rowLimit": 10000
     },
     "inputWidgets": {},
     "nuid": "e4474939-ae3a-4593-b8f3-ca9872aff62a",
     "showTitle": false,
     "title": ""
    }
   },
   "outputs": [],
   "source": [
    "table_size_df = None\n",
    "for table in all_tables:\n",
    "    table_name = table[\"table_name\"]\n",
    "    if spark.catalog.tableExists(f\"{in_target_schema}.{table_name}\"):\n",
    "        table_details = spark.sql(f\"describe detail {in_target_schema}.{table_name}\")\n",
    "        nbr_of_rows = spark.sql(f\"select count(*) as cnt from {in_target_schema}.{table_name}\").collect()[0][\"cnt\"]\n",
    "        table_details = table_details.withColumn(\"size_in_gb\",col(\"sizeInBytes\")/(1024*1024*1024)).withColumn('size_per_file', col(\"sizeInBytes\")/col(\"numFiles\")).withColumn(\"nbr_of_rows\",lit(nbr_of_rows)).withColumn(\"table_name\",lit(table_name)).withColumn(\"table_prefix\",lit(table[\"table_prefix\"]))\n",
    "        table_details = table_details.selectExpr(\"table_name\",\"table_prefix\",\"sizeInBytes as size_in_bytes\",\"size_in_gb\", \n",
    "                                                 \"numFiles as nbr_of_files\",\"createdAt as created_at\",\"lastModified as last_modified_at\", \"statistics\",\"partitionColumns as partition_columns\",\"clusteringColumns as clustering_columns\",\"nbr_of_rows\",\"size_per_file\")\n",
    "\n",
    "        table_size_df = table_details if table_size_df is None else table_size_df.unionAll(table_details)\n",
    "\n"
   ]
  },
  {
   "cell_type": "code",
   "execution_count": null,
   "metadata": {
    "application/vnd.databricks.v1+cell": {
     "cellMetadata": {
      "byteLimit": 2048000,
      "rowLimit": 10000
     },
     "inputWidgets": {},
     "nuid": "8e300f1b-4662-44d7-bb78-b7d86c83b859",
     "showTitle": false,
     "title": ""
    }
   },
   "outputs": [],
   "source": [
    "table_size_df.createOrReplaceTempView('v_user_tab_size')"
   ]
  },
  {
   "cell_type": "code",
   "execution_count": null,
   "metadata": {
    "application/vnd.databricks.v1+cell": {
     "cellMetadata": {
      "byteLimit": 2048000,
      "rowLimit": 10000
     },
     "inputWidgets": {},
     "nuid": "9267866c-6781-4da9-b1a7-0805df7159d8",
     "showTitle": false,
     "title": ""
    }
   },
   "outputs": [],
   "source": [
    "spark.sql(f\"\"\"create or replace table {in_target_schema}.{in_user_tab_size} as \n",
    "            select us.*, current_timestamp() as load_date from v_user_tab_size us\n",
    "            \"\"\")"
   ]
  },
  {
   "cell_type": "code",
   "execution_count": null,
   "metadata": {
    "application/vnd.databricks.v1+cell": {
     "cellMetadata": {
      "byteLimit": 2048000,
      "rowLimit": 10000
     },
     "inputWidgets": {},
     "nuid": "8324686b-723e-445c-938d-cb17e1042904",
     "showTitle": false,
     "title": ""
    }
   },
   "outputs": [],
   "source": [
    "display(table_size_df)"
   ]
  }
 ],
 "metadata": {
  "application/vnd.databricks.v1+notebook": {
   "dashboards": [],
   "language": "python",
   "notebookMetadata": {
    "mostRecentlyExecutedCommandWithImplicitDF": {
     "commandId": 1444745275586020,
     "dataframes": [
      "_sqldf"
     ]
    },
    "pythonIndentUnit": 4
   },
   "notebookName": "dbx_user_tab_size",
   "widgets": {
    "target_schema": {
     "currentValue": "trsales_dm",
     "nuid": "099658c4-c59c-46d6-937b-1252d3e3d942",
     "widgetInfo": {
      "defaultValue": "trsales_dm",
      "label": null,
      "name": "target_schema",
      "options": {
       "autoCreated": null,
       "validationRegex": null,
       "widgetType": "text"
      },
      "widgetType": "text"
     }
    },
    "user_tab_size_table_name": {
     "currentValue": "dbx_user_tab_size",
     "nuid": "dab7d907-1397-43b1-9ea1-ff9b7b6e8a69",
     "widgetInfo": {
      "defaultValue": "dbx_user_tab_size",
      "label": null,
      "name": "user_tab_size_table_name",
      "options": {
       "autoCreated": null,
       "validationRegex": null,
       "widgetType": "text"
      },
      "widgetType": "text"
     }
    }
   }
  },
  "language_info": {
   "name": "python"
  }
 },
 "nbformat": 4,
 "nbformat_minor": 0
}
