{
 "cells": [
  {
   "cell_type": "code",
   "execution_count": 0,
   "metadata": {
    "application/vnd.databricks.v1+cell": {
     "cellMetadata": {
      "byteLimit": 2048000,
      "rowLimit": 10000
     },
     "inputWidgets": {},
     "nuid": "b6b5ba6d-1e16-4beb-89a8-9bc8e559230e",
     "showTitle": false,
     "tableResultSettingsMap": {},
     "title": ""
    }
   },
   "outputs": [],
   "source": [
    "dbutils.widgets.text(\"job_name\",\"stg2ds-drone-sim\")"
   ]
  },
  {
   "cell_type": "code",
   "execution_count": 0,
   "metadata": {
    "application/vnd.databricks.v1+cell": {
     "cellMetadata": {
      "byteLimit": 2048000,
      "rowLimit": 10000
     },
     "inputWidgets": {},
     "nuid": "7e7612ec-3974-4dab-8510-805b6ed6b46f",
     "showTitle": false,
     "tableResultSettingsMap": {},
     "title": ""
    }
   },
   "outputs": [],
   "source": [
    "%run \"./dbx_rest_util\""
   ]
  },
  {
   "cell_type": "code",
   "execution_count": 0,
   "metadata": {
    "application/vnd.databricks.v1+cell": {
     "cellMetadata": {
      "byteLimit": 2048000,
      "rowLimit": 10000
     },
     "inputWidgets": {},
     "nuid": "62b63886-fd23-4a39-a320-f1f864e1d94b",
     "showTitle": false,
     "tableResultSettingsMap": {},
     "title": ""
    }
   },
   "outputs": [],
   "source": [
    "from datetime import datetime"
   ]
  },
  {
   "cell_type": "markdown",
   "metadata": {
    "application/vnd.databricks.v1+cell": {
     "cellMetadata": {
      "byteLimit": 2048000,
      "rowLimit": 10000
     },
     "inputWidgets": {},
     "nuid": "d263b46b-4357-42c1-a8b8-2d0d2e7dfcae",
     "showTitle": false,
     "tableResultSettingsMap": {},
     "title": ""
    }
   },
   "source": [
    "Python helper functions"
   ]
  },
  {
   "cell_type": "code",
   "execution_count": 0,
   "metadata": {
    "application/vnd.databricks.v1+cell": {
     "cellMetadata": {
      "byteLimit": 2048000,
      "rowLimit": 10000
     },
     "inputWidgets": {},
     "nuid": "f689cc91-5e34-46f0-8293-7ce516a47a0b",
     "showTitle": false,
     "tableResultSettingsMap": {},
     "title": ""
    }
   },
   "outputs": [],
   "source": [
    "#miliseconds to seconds\n",
    "def milis_to_seconds(milis):\n",
    "    return milis / 1000\n",
    "\n",
    "#miliseconds to timestamp\n",
    "def milis_to_date(milis):\n",
    "    return datetime.fromtimestamp(milis_to_seconds(milis))"
   ]
  },
  {
   "cell_type": "markdown",
   "metadata": {
    "application/vnd.databricks.v1+cell": {
     "cellMetadata": {
      "byteLimit": 2048000,
      "rowLimit": 10000
     },
     "inputWidgets": {},
     "nuid": "96486c96-942b-4301-bdb7-f2d7ec14ca2f",
     "showTitle": false,
     "tableResultSettingsMap": {},
     "title": ""
    }
   },
   "source": [
    "Helper functions"
   ]
  },
  {
   "cell_type": "code",
   "execution_count": 0,
   "metadata": {
    "application/vnd.databricks.v1+cell": {
     "cellMetadata": {
      "byteLimit": 2048000,
      "rowLimit": 10000
     },
     "inputWidgets": {},
     "nuid": "71d61404-d4a6-4745-b729-63e3310c8981",
     "showTitle": false,
     "tableResultSettingsMap": {},
     "title": ""
    }
   },
   "outputs": [],
   "source": [
    "def get_job_by_name(job_name_pattern: str, full_name: bool = False) -> []:\n",
    "    \"\"\"\n",
    "    Getting jobs by name, if full_name = True, full name must match\n",
    "\n",
    "    Parameters\n",
    "    ----------\n",
    "    job_name_pattern : str\n",
    "        Job name pattern to be searched\n",
    "    full_name : bool\n",
    "        If True, full name must match\n",
    "\n",
    "    Returns\n",
    "    -------\n",
    "    list\n",
    "        a list of job tasks. There can be more the one match when full name is False. When full_name is set to True list will have only one element.\n",
    "    \"\"\"\n",
    "    jobs = list_jobs()['jobs']\n",
    "    job_ids = []\n",
    "    for job in jobs:\n",
    "        if job_name_pattern in job.get('settings').get('name',None):\n",
    "            if full_name:\n",
    "                if job_name_pattern == job.get('settings').get('name',None):\n",
    "                    job_ids.append(job['job_id'])\n",
    "            else:\n",
    "                job_ids.append(job['job_id'])\n",
    "    return job_ids"
   ]
  },
  {
   "cell_type": "code",
   "execution_count": 0,
   "metadata": {
    "application/vnd.databricks.v1+cell": {
     "cellMetadata": {
      "byteLimit": 2048000,
      "rowLimit": 10000
     },
     "inputWidgets": {},
     "nuid": "e30e36bf-3689-45b9-8135-9e752f89bf3f",
     "showTitle": false,
     "tableResultSettingsMap": {},
     "title": ""
    }
   },
   "outputs": [],
   "source": [
    "def get_task_execution(run: {}) -> []:\n",
    "    \"\"\"\n",
    "    Getting task execution details\n",
    "\n",
    "    Parameters\n",
    "    ----------\n",
    "    run : dict\n",
    "        run details return by Databricks Rest API\n",
    "        https://docs.databricks.com/api/azure/workspace/jobs/listruns#runs\n",
    "\n",
    "    Returns\n",
    "    -------\n",
    "    list\n",
    "        a list of job tasks. There can be more the one match when full name is False. When full_name is set to True list will have only one element.\n",
    "    \"\"\"\n",
    "    task_data = []\n",
    "    for task in run[\"tasks\"]:\n",
    "        task_key = task['task_key']                               \n",
    "        run_duration = milis_to_seconds(task['execution_duration'])\n",
    "        task_data.append([run['run_id'],task_key, run_duration,\n",
    "                            datetime.fromtimestamp(milis_to_seconds(task['start_time'])),\n",
    "                            datetime.fromtimestamp(milis_to_seconds(task['end_time'])), \n",
    "                            run['state']['result_state'],\n",
    "                            task['notebook_task']['notebook_path'], task['notebook_task']['source']\n",
    "                            ])\n",
    "    return task_data"
   ]
  },
  {
   "cell_type": "code",
   "execution_count": 0,
   "metadata": {
    "application/vnd.databricks.v1+cell": {
     "cellMetadata": {
      "byteLimit": 2048000,
      "rowLimit": 10000
     },
     "inputWidgets": {},
     "nuid": "c3eecda1-7c44-4fba-9637-ab55580ef8fe",
     "showTitle": false,
     "tableResultSettingsMap": {},
     "title": ""
    }
   },
   "outputs": [],
   "source": [
    "in_job_name = dbutils.widgets.get('job_name')\n",
    "#get job by it's exact name\n",
    "job_id = get_job_by_name(in_job_name, True)\n",
    "job_runs = list_jobs_runs(job_id[0])\n",
    "tasks_df = None\n",
    "if len(job_runs) > 0:\n",
    "    for run in job_runs['runs']:\n",
    "        if run['status']['state'] != 'RUNNING': \n",
    "            # Loop through tasks and get task_key and run_duration\n",
    "            run = get_job_run(run['run_id'])\n",
    "            task_data = get_task_execution(run)\n",
    "            \n",
    "            task_df = spark.createDataFrame(task_data, ['run_id', 'task_key', 'run_duration_seconds', 'start_time', 'end_time','result_state', 'notebook_path', 'notebook_source'])\n",
    "            tasks_df = task_df if tasks_df is None else tasks_df.union(task_df)\n",
    "\n",
    "tasks_df.write.mode('overwrite').saveAsTable(f\"{DB_NAME}.audit_job_run\")"
   ]
  },
  {
   "cell_type": "code",
   "execution_count": 0,
   "metadata": {
    "application/vnd.databricks.v1+cell": {
     "cellMetadata": {
      "byteLimit": 2048000,
      "implicitDf": true,
      "rowLimit": 10000
     },
     "inputWidgets": {},
     "nuid": "29f86cc8-bbef-4254-bcd7-047be57347e7",
     "showTitle": false,
     "tableResultSettingsMap": {},
     "title": ""
    }
   },
   "outputs": [],
   "source": [
    "%sql\n",
    "select\n",
    "  jr.run_id\n",
    ", jr.task_key \n",
    ", jr.run_duration_seconds\n",
    ", jr.start_time\n",
    ", jr.end_time\n",
    ", lag(run_id) over(partition by task_key order by start_time) as previous_run_id \n",
    ", lag(run_duration_seconds) over(partition by task_key order by start_time) as previous_run_duration_seconds\n",
    ", jr.run_duration_seconds - previous_run_duration_seconds as performance_degradation_seconds\n",
    ", round((performance_degradation_seconds/previous_run_duration_seconds)*100,2) as performance_degradation_percentage\n",
    ", jr.notebook_path\n",
    ", jr.notebook_source \n",
    "from next_level_dm.audit_job_run jr\n",
    "where task_key like '%drone%'\n",
    "order by start_time desc"
   ]
  }
 ],
 "metadata": {
  "application/vnd.databricks.v1+notebook": {
   "computePreferences": null,
   "dashboards": [],
   "environmentMetadata": {
    "base_environment": "",
    "client": "1"
   },
   "language": "python",
   "notebookMetadata": {
    "mostRecentlyExecutedCommandWithImplicitDF": {
     "commandId": 3352721033664694,
     "dataframes": [
      "_sqldf"
     ]
    },
    "pythonIndentUnit": 4
   },
   "notebookName": "job_execution_history",
   "widgets": {
    "job_name": {
     "currentValue": "repo-stg2ds",
     "nuid": "2911c0be-f415-4e83-9978-005620c0ca4c",
     "typedWidgetInfo": {
      "autoCreated": false,
      "defaultValue": "enr2hstg-inquirymanager-0",
      "label": null,
      "name": "job_name",
      "options": {
       "validationRegex": null,
       "widgetDisplayType": "Text"
      },
      "parameterDataType": "String"
     },
     "widgetInfo": {
      "defaultValue": "enr2hstg-inquirymanager-0",
      "label": null,
      "name": "job_name",
      "options": {
       "autoCreated": null,
       "validationRegex": null,
       "widgetType": "text"
      },
      "widgetType": "text"
     }
    }
   }
  },
  "language_info": {
   "name": "python"
  }
 },
 "nbformat": 4,
 "nbformat_minor": 0
}
